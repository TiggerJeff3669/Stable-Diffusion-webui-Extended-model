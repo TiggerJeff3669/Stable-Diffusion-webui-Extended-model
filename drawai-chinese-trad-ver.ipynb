{
 "cells": [
  {
   "cell_type": "markdown",
   "metadata": {
    "id": "OHCtG9MT0jLq"
   },
   "source": [
    "### 1.確認使用的GPU\n",
    "### 2.下載github專案"
   ]
  },
  {
   "cell_type": "code",
   "execution_count": null,
   "metadata": {
    "colab": {
     "base_uri": "https://localhost:8080/"
    },
    "id": "7b2g7Hh9nyqA",
    "outputId": "0ad161b2-f0ac-40f3-ce52-752b8f81ee7c"
   },
   "outputs": [
    {
     "name": "stdout",
     "output_type": "stream",
     "text": [
      "GPU 0: Tesla T4 (UUID: GPU-591e6b16-a3f5-6531-57d2-ea4353bf9a23)\n"
     ]
    }
   ],
   "source": [
    "!nvidia-smi -L"
   ]
  },
  {
   "cell_type": "code",
   "execution_count": null,
   "metadata": {
    "colab": {
     "base_uri": "https://localhost:8080/"
    },
    "id": "sBbcB4vwj_jm",
    "outputId": "40ec530b-fb93-457f-afbb-15d0eaf753b2"
   },
   "outputs": [],
   "source": [
    "!git clone https://github.com/AUTOMATIC1111/stable-diffusion-webui\n",
    "%cd stable-diffusion-webui"
   ]
  },
  {
   "cell_type": "markdown",
   "metadata": {
    "id": "F0EINk5M0s-w"
   },
   "source": [
    "### 3.下載繪圖模型\n",
    "(optional 可以選擇要不要使用)"
   ]
  },
  {
   "cell_type": "code",
   "execution_count": null,
   "metadata": {
    "colab": {
     "base_uri": "https://localhost:8080/"
    },
    "id": "ZzRNMT42Gw_p",
    "outputId": "0862b6a4-1b30-48d9-82f8-1d7f803f7dc1"
   },
   "outputs": [],
   "source": [
    "!mkdir -p /content/stable-diffusion-webui/models/Stable-diffusion /content/stable-diffusion-webui/models/hypernetworks\n",
    "%cd /content/stable-diffusion-webui/models/Stable-diffusion/\n",
    "\n",
    "# 7G animefull-final-latest (may not work)\n",
    "# !gdown 17WWd6KEsBj7D_0TyGp8aXHQDlchYVs1a -O /content/stable-diffusion-webui/models/Stable-diffusion/model.ckpt\n",
    "\n",
    "# 4G animefull-final-pruned\n",
    "# !gdown 1d3f2fvN2gLRocBahZrXe_v1EEHuqpUzT -O /content/stable-diffusion-webui/models/Stable-diffusion/model.ckpt\n",
    "\n",
    "# 4G animefull-final-pruned (backup)\n",
    "#!curl -Lo model.ckpt https://cloudflare-ipfs.com/ipfs/bafybeicpamreyp2bsocyk3hpxr7ixb2g2rnrequub3j2ahrkdxbvfbvjc4/model.ckpt\n",
    "#4G Anything mix Stable Diffusion 1.4 65%\n",
    "#!curl -Lo model.ckpt https://pixeldrain.com/api/file/V3a4oewv?download\n",
    "#4G Anything V3.0 merge dbMai 65%\n",
    "!curl -Lo Anything-V3.0.Mai65.ckpt https://pixeldrain.com/api/file/nSELMajQ?download\n",
    "# Install VAE Weights (optional)\n",
    "##!curl -Lo model.vae.pt https://cloudflare-ipfs.com/ipfs/bafybeiccldswdd3wvg57jhclcq53lvsc6gizasiblwayvhlv6eq4wow7wu/animevae.pt \n",
    "!curl -Lo Anything-V3.0.Mai65.vae.pt https://pixeldrain.com/api/file/gE51dXig?download\n",
    "# Install hypernetwork （optional)\n",
    "##!curl -L https://cloudflare-ipfs.com/ipfs/bafybeiduanx2b3mcvxlwr66igcwnpfmk3nc3qgxlpwh6oq6m6pxii3f77e/_modules.tar | tar x -C /content/stable-diffusion-webui/models/hypernetworks\n",
    "\n",
    "# Install custom embeddings (modified, optional)\n",
    "# !curl -L https://cloudflare-ipfs.com/ipfs/bafybeie3hdjchxs5tz4n75bos53nhcklslguxchdurc2ynrzcfv2kwyklu/embeddings.tar | tar x -C /content/stable-diffusion-webui/embeddings"
   ]
  },
  {
   "cell_type": "markdown",
   "metadata": {
    "id": "4grF6OI8IiPu"
   },
   "source": [
    "### 4.啟動繪圖功能"
   ]
  },
  {
   "cell_type": "markdown",
   "metadata": {
    "id": "xt8lbdmC04ox"
   },
   "source": [
    "Launch web ui. You will get a link to nnn.gradio.app, follow it.\n",
    "\n",
    "Commandline arguments are:\n",
    "  - `--share` - create online gradio.app link\n",
    "  - `--gradio-debug` - print outputs to console\n",
    "  - `--gradio-auth me:qwerty` - 增加帳密認證 to gradio: 使用者 me, 密碼 qwerty"
   ]
  },
  {
   "cell_type": "code",
   "execution_count": null,
   "metadata": {
    "colab": {
     "base_uri": "https://localhost:8080/"
    },
    "id": "R-xAdMA5wxXd",
    "outputId": "2b11a3c5-5691-4081-f0ce-973d29be6573"
   },
   "outputs": [],
   "source": [
    "%cd /content/stable-diffusion-webui\n",
    "!COMMANDLINE_ARGS=\"--share --deepdanbooru --gradio-debug --medvram\" REQS_FILE=\"requirements.txt\" python launch.py"
   ]
  },
  {
   "cell_type": "markdown",
   "metadata": {
    "id": "T3957x2AY7iP"
   },
   "source": [
    "在結束繪圖之後，可以選擇要不要匯出資料\n",
    "============================================================================"
   ]
  },
  {
   "cell_type": "markdown",
   "metadata": {
    "id": "aCtJffM2ZE06"
   },
   "source": [
    "01.製作壓縮 zip\n",
    "<br>(會把檔案放在工作目錄)\n",
    "<br>開始執行命令之前，先把 4.啟動繪圖功能 先 中斷/強制結束"
   ]
  },
  {
   "cell_type": "code",
   "execution_count": null,
   "metadata": {
    "id": "9V1QPaEfRPn8"
   },
   "outputs": [],
   "source": [
    "!zip -r /content/stable-diffusion-webui /content/stable-diffusion-webui/outputs"
   ]
  },
  {
   "cell_type": "markdown",
   "metadata": {
    "id": "tcslU-S2ZNr9"
   },
   "source": [
    "02.連線到雲端硬碟  (授權存取許可)\n",
    "<br>(如果沒有生成檔案或是失敗、再去01生成zip)\n",
    "<br>檔名是當天的日期"
   ]
  },
  {
   "cell_type": "code",
   "execution_count": null,
   "metadata": {
    "id": "-N0lnu-TZOTW"
   },
   "outputs": [],
   "source": [
    "from google.colab import drive # type: ignore\n",
    "\n",
    "try:\n",
    "   drive_path = \"/content/drive\"\n",
    "   drive.mount(drive_path,force_remount=False)\n",
    "except:\n",
    "   print(\"...error mounting drive or with drive path variables\")\n",
    "import datetime\n",
    "!mkdir \"/content/drive/MyDrive/Diffusion_save\" \n",
    "times=(datetime.datetime.now().strftime(\"%Y-%m-%dT%H_%M\") ) \n",
    "#print(times)\n",
    "\n",
    "!mv \"/content/stable-diffusion-webui.zip\" \"/content/{times}.zip\"\n",
    "!cp -r \"/content/{times}.zip\" \"/content/drive/MyDrive/Diffusion_save\""
   ]
  },
  {
   "cell_type": "markdown",
   "metadata": {
    "id": "VH9QWZVpI4X-"
   },
   "source": [
    "# 疑難排解\n",
    "如果啟動失敗，可以利用下面工具把執行階段重設。<br>\n",
    "colab jupyter 的運作方式是一個區塊一個執行，這方便做測試。\n",
    "<br> 若是不先把目前的區塊完成或停止，則下一個命令不會被執行。"
   ]
  },
  {
   "cell_type": "markdown",
   "metadata": {
    "id": "TROhoVcGJ2FM"
   },
   "source": [
    "## 重啟執行階段"
   ]
  },
  {
   "cell_type": "code",
   "execution_count": null,
   "metadata": {
    "id": "Qub48FXuJ7k0"
   },
   "outputs": [],
   "source": [
    "import os\n",
    "os.kill(os.getpid(), 9)"
   ]
  }
 ],
 "metadata": {
  "kernelspec": {
   "display_name": "Python 3.9.12 ('base')",
   "language": "python",
   "name": "python3"
  },
  "language_info": {
   "name": "python",
   "version": "3.9.12"
  },
  "orig_nbformat": 4,
  "vscode": {
   "interpreter": {
    "hash": "f8b40d688a12481f01eadf7380c47edd8a49484a47dba3db091451640e880c68"
   }
  }
 },
 "nbformat": 4,
 "nbformat_minor": 2
}
